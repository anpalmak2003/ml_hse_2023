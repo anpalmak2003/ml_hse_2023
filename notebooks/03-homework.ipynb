{
 "cells": [
  {
   "cell_type": "code",
   "execution_count": 52,
   "metadata": {},
   "outputs": [],
   "source": [
    "from sklearn.linear_model import LogisticRegression"
   ]
  },
  {
   "cell_type": "code",
   "execution_count": 84,
   "metadata": {},
   "outputs": [],
   "source": [
    "import os\n",
    "from pathlib import Path\n",
    "import pandas as pd\n",
    "train = pd.read_pickle(os.path.join(str(Path(os.getcwd())) , 'data/train.pickle'))"
   ]
  },
  {
   "cell_type": "code",
   "execution_count": 54,
   "metadata": {},
   "outputs": [
    {
     "data": {
      "text/plain": [
       "dict_keys(['coords', 'labels', 'features', 'sizes'])"
      ]
     },
     "execution_count": 54,
     "metadata": {},
     "output_type": "execute_result"
    }
   ],
   "source": [
    "train.keys()"
   ]
  },
  {
   "cell_type": "code",
   "execution_count": 55,
   "metadata": {},
   "outputs": [
    {
     "data": {
      "text/plain": [
       "34799"
      ]
     },
     "execution_count": 55,
     "metadata": {},
     "output_type": "execute_result"
    }
   ],
   "source": [
    "len(train['features'])"
   ]
  },
  {
   "cell_type": "code",
   "execution_count": 56,
   "metadata": {},
   "outputs": [],
   "source": [
    "import numpy as np\n",
    "X =np.reshape(train['features'], (len(train['features']),-1))"
   ]
  },
  {
   "cell_type": "code",
   "execution_count": 57,
   "metadata": {},
   "outputs": [],
   "source": [
    "from sklearn.model_selection import train_test_split\n",
    "X_train, X_test, y_train, y_test = train_test_split(\n",
    "     X, train['labels'], test_size=0.25, random_state=42)"
   ]
  },
  {
   "cell_type": "code",
   "execution_count": 58,
   "metadata": {},
   "outputs": [
    {
     "name": "stderr",
     "output_type": "stream",
     "text": [
      "/Users/21311064/Library/Python/3.11/lib/python/site-packages/sklearn/linear_model/_logistic.py:469: ConvergenceWarning: lbfgs failed to converge (status=1):\n",
      "STOP: TOTAL NO. of ITERATIONS REACHED LIMIT.\n",
      "\n",
      "Increase the number of iterations (max_iter) or scale the data as shown in:\n",
      "    https://scikit-learn.org/stable/modules/preprocessing.html\n",
      "Please also refer to the documentation for alternative solver options:\n",
      "    https://scikit-learn.org/stable/modules/linear_model.html#logistic-regression\n",
      "  n_iter_i = _check_optimize_result(\n"
     ]
    }
   ],
   "source": [
    "clf = LogisticRegression(random_state=0).fit(X_train,y_train)"
   ]
  },
  {
   "cell_type": "code",
   "execution_count": 61,
   "metadata": {},
   "outputs": [
    {
     "data": {
      "image/png": "[encoded data removed]",
      "text/plain": [
       "<Figure size 640x480 with 1 Axes>"
      ]
     },
     "metadata": {},
     "output_type": "display_data"
    }
   ],
   "source": [
    "import collections, numpy\n",
    "D = collections.Counter(train['labels'])\n",
    "import matplotlib.pyplot as plt\n",
    "\n",
    "\n",
    "plt.bar(range(len(D)), list(D.values()), align='center')\n",
    "plt.xticks(range(len(D)), list(D.keys()))\n",
    "\n",
    "plt.show()\n",
    "#посмотрим на распределение классов"
   ]
  },
  {
   "cell_type": "code",
   "execution_count": 62,
   "metadata": {},
   "outputs": [
    {
     "data": {
      "text/plain": [
       "0.9142528735632184"
      ]
     },
     "execution_count": 62,
     "metadata": {},
     "output_type": "execute_result"
    }
   ],
   "source": [
    "#видно, что классы распределены не равномерно, посмотрим на accuracy\n",
    "clf.score(X_test,y_test)"
   ]
  },
  {
   "cell_type": "code",
   "execution_count": 63,
   "metadata": {},
   "outputs": [],
   "source": [
    "y_pred = clf.predict(X_test)"
   ]
  },
  {
   "cell_type": "code",
   "execution_count": 64,
   "metadata": {},
   "outputs": [
    {
     "name": "stdout",
     "output_type": "stream",
     "text": [
      "macro precision_score - 0.910931610823652, micro precision_score - 0.9142528735632184\n"
     ]
    }
   ],
   "source": [
    "#в микро усреднении вклад маленького класса в общую метрику незаметный, а в макро величины классы нормированы\n",
    "#можем заметить, что micro и macro precision почти одинаков, значит модель хорошо обучена и способна предсказывать как меньшие, \n",
    "#так и более крупные классы схожим образом\n",
    "#заметим еще что accuracy примерно равен precision, это значит что доля верно предсказанных объектов примерно равна\n",
    "#доле правильно предсказанных положительных объектов среди всех объектов, предсказанных положительным классом, что логично, так\n",
    "# как macro примерно равен micro\n",
    "from sklearn.metrics import precision_score\n",
    "print(f\"macro precision_score - {precision_score(y_test, y_pred, average='macro')}, micro precision_score - {precision_score(y_test, y_pred, average='micro')}\")"
   ]
  },
  {
   "cell_type": "code",
   "execution_count": 66,
   "metadata": {},
   "outputs": [
    {
     "name": "stdout",
     "output_type": "stream",
     "text": [
      "macro recall_score - 0.8818365373869322, micro recall_score - 0.9142528735632184\n"
     ]
    }
   ],
   "source": [
    "# посмотрим еще на recall и поймем, что ложно отрицательных срабатываний ложно мало и \n",
    "# micro и macro отличаются немного, значит есть небольшой перекос\n",
    "# в сторону ложно отрицательных срабатываний для классов маленькой мощности(то есть модель иногда не угадывает их)\n",
    "from sklearn.metrics import recall_score\n",
    "print(f\"macro recall_score - {recall_score(y_test, y_pred, average='macro')}, micro recall_score - {recall_score(y_test, y_pred, average='micro')}\")"
   ]
  },
  {
   "cell_type": "code",
   "execution_count": 67,
   "metadata": {},
   "outputs": [
    {
     "name": "stdout",
     "output_type": "stream",
     "text": [
      "0.904384617225155\n"
     ]
    }
   ],
   "source": [
    "# в качетсве итоговой метрики можно выбрать (F1 macro + F1 micro)/2\n",
    "from sklearn.metrics import f1_score\n",
    "print((f1_score(y_test, y_pred, average='macro')+f1_score(y_test, y_pred, average='micro'))/2)"
   ]
  },
  {
   "cell_type": "code",
   "execution_count": 68,
   "metadata": {},
   "outputs": [
    {
     "name": "stdout",
     "output_type": "stream",
     "text": [
      "модель чаще всего пута класс 5\n"
     ]
    }
   ],
   "source": [
    "d = {}\n",
    "for i,label in enumerate(y_test):\n",
    "    if label!=y_pred[i]:\n",
    "        if label not in d.keys():\n",
    "            d[label] = 0\n",
    "        d[label]+=1\n",
    "print(f\"модель чаще всего путает класс {max(d, key=d.get)}\")"
   ]
  },
  {
   "cell_type": "code",
   "execution_count": 69,
   "metadata": {},
   "outputs": [],
   "source": [
    "#2\n",
    "from sklearn.neighbors import KNeighborsClassifier\n",
    "neigh = KNeighborsClassifier(n_neighbors=5)\n",
    "neigh.fit(X_train,y_train)\n",
    "neigh_pred = neigh.predict(X_test)"
   ]
  },
  {
   "cell_type": "code",
   "execution_count": 70,
   "metadata": {},
   "outputs": [],
   "source": [
    "from sklearn.naive_bayes import GaussianNB\n",
    "GNBclf = GaussianNB()\n",
    "GNBclf.fit(X_train,y_train)\n",
    "GNBclf_pred = GNBclf.predict(X_test)"
   ]
  },
  {
   "cell_type": "code",
   "execution_count": 71,
   "metadata": {},
   "outputs": [],
   "source": [
    "from sklearn import svm\n",
    "linear_svc = svm.SVC(kernel='linear')\n",
    "linear_svc.fit(X_train,y_train)\n",
    "linear_svc_pred = linear_svc.predict(X_test)"
   ]
  },
  {
   "cell_type": "code",
   "execution_count": 72,
   "metadata": {},
   "outputs": [],
   "source": [
    "rbf_svc = svm.SVC(kernel='rbf')\n",
    "rbf_svc.fit(X_train,y_train)\n",
    "rbf_svc_pred = linear_svc.predict(X_test)"
   ]
  },
  {
   "cell_type": "code",
   "execution_count": 74,
   "metadata": {},
   "outputs": [],
   "source": [
    "polynomial_svc = svm.SVC(kernel='poly')\n",
    "polynomial_svc.fit(X_train,y_train)\n",
    "polynomial_svc_pred = linear_svc.predict(X_test)"
   ]
  },
  {
   "cell_type": "code",
   "execution_count": 75,
   "metadata": {},
   "outputs": [
    {
     "name": "stdout",
     "output_type": "stream",
     "text": [
      "метрика log reg 0.904384617225155\n",
      "метрика knn 0.8726585627327713\n",
      "метрика GaussianNB 0.17551285326560973\n",
      "метрика svm linear 0.9532219968549209\n",
      "метрика svm rbf 0.9532219968549209\n",
      "метрика svm polynomial 0.9532219968549209\n"
     ]
    }
   ],
   "source": [
    "print(f\"метрика log reg {(f1_score(y_test, y_pred, average='macro')+f1_score(y_test, y_pred, average='micro'))/2}\")\n",
    "print(f\"метрика knn {(f1_score(y_test, neigh_pred, average='macro')+f1_score(y_test, neigh_pred, average='micro'))/2}\")\n",
    "print(f\"метрика GaussianNB {(f1_score(y_test, GNBclf_pred, average='macro')+f1_score(y_test, GNBclf_pred, average='micro'))/2}\")\n",
    "print(f\"метрика svm linear {(f1_score(y_test, linear_svc_pred, average='macro')+f1_score(y_test, linear_svc_pred, average='micro'))/2}\")\n",
    "print(f\"метрика svm rbf {(f1_score(y_test, rbf_svc_pred, average='macro')+f1_score(y_test, rbf_svc_pred, average='micro'))/2}\")\n",
    "print(f\"метрика svm polynomial {(f1_score(y_test, polynomial_svc_pred, average='macro')+f1_score(y_test, polynomial_svc_pred, average='micro'))/2}\")"
   ]
  },
  {
   "cell_type": "code",
   "execution_count": 78,
   "metadata": {},
   "outputs": [],
   "source": [
    "# наивный байесовский классификатор заметно хуже всех\n",
    "# потому что наивный байесовский классификатор предполагает, что все признаки являются независимыми друг от друга\n",
    "# а наши признаки - точно имеют зависимость, так как это картинки и очевидно, координаты зависят друг от друга\n"
   ]
  }
 ],
 "metadata": {
  "kernelspec": {
   "display_name": "Python 3",
   "language": "python",
   "name": "python3"
  },
  "language_info": {
   "codemirror_mode": {
    "name": "ipython",
    "version": 3
   },
   "file_extension": ".py",
   "mimetype": "text/x-python",
   "name": "python",
   "nbconvert_exporter": "python",
   "pygments_lexer": "ipython3",
   "version": "3.11.6"
  }
 },
 "nbformat": 4,
 "nbformat_minor": 2
}
