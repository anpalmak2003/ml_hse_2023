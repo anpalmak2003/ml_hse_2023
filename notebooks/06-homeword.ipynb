{
 "cells": [
  {
   "cell_type": "code",
   "execution_count": 3,
   "metadata": {},
   "outputs": [],
   "source": [
    "#1\n",
    "import pandas as pd"
   ]
  },
  {
   "cell_type": "code",
   "execution_count": 4,
   "metadata": {},
   "outputs": [
    {
     "data": {
      "text/html": [
       "<div>\n",
       "<style scoped>\n",
       "    .dataframe tbody tr th:only-of-type {\n",
       "        vertical-align: middle;\n",
       "    }\n",
       "\n",
       "    .dataframe tbody tr th {\n",
       "        vertical-align: top;\n",
       "    }\n",
       "\n",
       "    .dataframe thead th {\n",
       "        text-align: right;\n",
       "    }\n",
       "</style>\n",
       "<table border=\"1\" class=\"dataframe\">\n",
       "  <thead>\n",
       "    <tr style=\"text-align: right;\">\n",
       "      <th></th>\n",
       "      <th>rating</th>\n",
       "      <th>type</th>\n",
       "      <th>text</th>\n",
       "      <th>title</th>\n",
       "    </tr>\n",
       "  </thead>\n",
       "  <tbody>\n",
       "    <tr>\n",
       "      <th>0</th>\n",
       "      <td>3</td>\n",
       "      <td>review</td>\n",
       "      <td>We used this airline to go from Singapore to L...</td>\n",
       "      <td>Ok</td>\n",
       "    </tr>\n",
       "    <tr>\n",
       "      <th>1</th>\n",
       "      <td>5</td>\n",
       "      <td>review</td>\n",
       "      <td>The service on Singapore Airlines Suites Class...</td>\n",
       "      <td>The service in Suites Class makes one feel lik...</td>\n",
       "    </tr>\n",
       "    <tr>\n",
       "      <th>2</th>\n",
       "      <td>1</td>\n",
       "      <td>review</td>\n",
       "      <td>Booked, paid and received email confirmation f...</td>\n",
       "      <td>Don’t give them your money</td>\n",
       "    </tr>\n",
       "    <tr>\n",
       "      <th>3</th>\n",
       "      <td>5</td>\n",
       "      <td>review</td>\n",
       "      <td>Best airline in the world, seats, food, servic...</td>\n",
       "      <td>Best Airline in the World</td>\n",
       "    </tr>\n",
       "    <tr>\n",
       "      <th>4</th>\n",
       "      <td>2</td>\n",
       "      <td>review</td>\n",
       "      <td>Premium Economy Seating on Singapore Airlines ...</td>\n",
       "      <td>Premium Economy Seating on Singapore Airlines ...</td>\n",
       "    </tr>\n",
       "    <tr>\n",
       "      <th>...</th>\n",
       "      <td>...</td>\n",
       "      <td>...</td>\n",
       "      <td>...</td>\n",
       "      <td>...</td>\n",
       "    </tr>\n",
       "    <tr>\n",
       "      <th>9995</th>\n",
       "      <td>5</td>\n",
       "      <td>review</td>\n",
       "      <td>First part done with Singapore Airlines - acce...</td>\n",
       "      <td>Flew to NZ 1st half Singapore Airlines, 2nd ha...</td>\n",
       "    </tr>\n",
       "    <tr>\n",
       "      <th>9996</th>\n",
       "      <td>5</td>\n",
       "      <td>review</td>\n",
       "      <td>And again a great Flight with Singapore Air. G...</td>\n",
       "      <td>Best Airline</td>\n",
       "    </tr>\n",
       "    <tr>\n",
       "      <th>9997</th>\n",
       "      <td>5</td>\n",
       "      <td>review</td>\n",
       "      <td>We flew business class from Frankfurt, via Sin...</td>\n",
       "      <td>Superb service on Singapore Airlines</td>\n",
       "    </tr>\n",
       "    <tr>\n",
       "      <th>9998</th>\n",
       "      <td>4</td>\n",
       "      <td>review</td>\n",
       "      <td>As always, the A380 aircraft was spotlessly pr...</td>\n",
       "      <td>A Comfortable Fiight Spoiled by lack of adequa...</td>\n",
       "    </tr>\n",
       "    <tr>\n",
       "      <th>9999</th>\n",
       "      <td>4</td>\n",
       "      <td>review</td>\n",
       "      <td>As always, Singapore Airlines has done it agai...</td>\n",
       "      <td>Delivered as expected :)</td>\n",
       "    </tr>\n",
       "  </tbody>\n",
       "</table>\n",
       "<p>10000 rows × 4 columns</p>\n",
       "</div>"
      ],
      "text/plain": [
       "      rating    type                                               text  \\\n",
       "0          3  review  We used this airline to go from Singapore to L...   \n",
       "1          5  review  The service on Singapore Airlines Suites Class...   \n",
       "2          1  review  Booked, paid and received email confirmation f...   \n",
       "3          5  review  Best airline in the world, seats, food, servic...   \n",
       "4          2  review  Premium Economy Seating on Singapore Airlines ...   \n",
       "...      ...     ...                                                ...   \n",
       "9995       5  review  First part done with Singapore Airlines - acce...   \n",
       "9996       5  review  And again a great Flight with Singapore Air. G...   \n",
       "9997       5  review  We flew business class from Frankfurt, via Sin...   \n",
       "9998       4  review  As always, the A380 aircraft was spotlessly pr...   \n",
       "9999       4  review  As always, Singapore Airlines has done it agai...   \n",
       "\n",
       "                                                  title  \n",
       "0                                                    Ok  \n",
       "1     The service in Suites Class makes one feel lik...  \n",
       "2                            Don’t give them your money  \n",
       "3                             Best Airline in the World  \n",
       "4     Premium Economy Seating on Singapore Airlines ...  \n",
       "...                                                 ...  \n",
       "9995  Flew to NZ 1st half Singapore Airlines, 2nd ha...  \n",
       "9996                                       Best Airline  \n",
       "9997               Superb service on Singapore Airlines  \n",
       "9998  A Comfortable Fiight Spoiled by lack of adequa...  \n",
       "9999                           Delivered as expected :)  \n",
       "\n",
       "[10000 rows x 4 columns]"
      ]
     },
     "execution_count": 4,
     "metadata": {},
     "output_type": "execute_result"
    }
   ],
   "source": [
    "import os\n",
    "from pathlib import Path\n",
    "df = pd.read_csv(os.path.join(str(Path(os.getcwd())) ,'data/singapore_airlines_reviews.csv'))\n",
    "df = df.drop(columns = ['published_date','published_platform', 'helpful_votes'])\n",
    "df"
   ]
  },
  {
   "cell_type": "code",
   "execution_count": 62,
   "metadata": {},
   "outputs": [
    {
     "data": {
      "text/plain": [
       "array(['review'], dtype=object)"
      ]
     },
     "execution_count": 62,
     "metadata": {},
     "output_type": "execute_result"
    }
   ],
   "source": [
    "df['type'].unique()"
   ]
  },
  {
   "cell_type": "code",
   "execution_count": 63,
   "metadata": {},
   "outputs": [
    {
     "data": {
      "text/html": [
       "<div>\n",
       "<style scoped>\n",
       "    .dataframe tbody tr th:only-of-type {\n",
       "        vertical-align: middle;\n",
       "    }\n",
       "\n",
       "    .dataframe tbody tr th {\n",
       "        vertical-align: top;\n",
       "    }\n",
       "\n",
       "    .dataframe thead th {\n",
       "        text-align: right;\n",
       "    }\n",
       "</style>\n",
       "<table border=\"1\" class=\"dataframe\">\n",
       "  <thead>\n",
       "    <tr style=\"text-align: right;\">\n",
       "      <th></th>\n",
       "      <th>rating</th>\n",
       "      <th>text</th>\n",
       "      <th>title</th>\n",
       "    </tr>\n",
       "  </thead>\n",
       "  <tbody>\n",
       "    <tr>\n",
       "      <th>0</th>\n",
       "      <td>3</td>\n",
       "      <td>We used this airline to go from Singapore to L...</td>\n",
       "      <td>Ok</td>\n",
       "    </tr>\n",
       "    <tr>\n",
       "      <th>1</th>\n",
       "      <td>5</td>\n",
       "      <td>The service on Singapore Airlines Suites Class...</td>\n",
       "      <td>The service in Suites Class makes one feel lik...</td>\n",
       "    </tr>\n",
       "    <tr>\n",
       "      <th>2</th>\n",
       "      <td>1</td>\n",
       "      <td>Booked, paid and received email confirmation f...</td>\n",
       "      <td>Don’t give them your money</td>\n",
       "    </tr>\n",
       "    <tr>\n",
       "      <th>3</th>\n",
       "      <td>5</td>\n",
       "      <td>Best airline in the world, seats, food, servic...</td>\n",
       "      <td>Best Airline in the World</td>\n",
       "    </tr>\n",
       "    <tr>\n",
       "      <th>4</th>\n",
       "      <td>2</td>\n",
       "      <td>Premium Economy Seating on Singapore Airlines ...</td>\n",
       "      <td>Premium Economy Seating on Singapore Airlines ...</td>\n",
       "    </tr>\n",
       "    <tr>\n",
       "      <th>...</th>\n",
       "      <td>...</td>\n",
       "      <td>...</td>\n",
       "      <td>...</td>\n",
       "    </tr>\n",
       "    <tr>\n",
       "      <th>9995</th>\n",
       "      <td>5</td>\n",
       "      <td>First part done with Singapore Airlines - acce...</td>\n",
       "      <td>Flew to NZ 1st half Singapore Airlines, 2nd ha...</td>\n",
       "    </tr>\n",
       "    <tr>\n",
       "      <th>9996</th>\n",
       "      <td>5</td>\n",
       "      <td>And again a great Flight with Singapore Air. G...</td>\n",
       "      <td>Best Airline</td>\n",
       "    </tr>\n",
       "    <tr>\n",
       "      <th>9997</th>\n",
       "      <td>5</td>\n",
       "      <td>We flew business class from Frankfurt, via Sin...</td>\n",
       "      <td>Superb service on Singapore Airlines</td>\n",
       "    </tr>\n",
       "    <tr>\n",
       "      <th>9998</th>\n",
       "      <td>4</td>\n",
       "      <td>As always, the A380 aircraft was spotlessly pr...</td>\n",
       "      <td>A Comfortable Fiight Spoiled by lack of adequa...</td>\n",
       "    </tr>\n",
       "    <tr>\n",
       "      <th>9999</th>\n",
       "      <td>4</td>\n",
       "      <td>As always, Singapore Airlines has done it agai...</td>\n",
       "      <td>Delivered as expected :)</td>\n",
       "    </tr>\n",
       "  </tbody>\n",
       "</table>\n",
       "<p>10000 rows × 3 columns</p>\n",
       "</div>"
      ],
      "text/plain": [
       "      rating                                               text  \\\n",
       "0          3  We used this airline to go from Singapore to L...   \n",
       "1          5  The service on Singapore Airlines Suites Class...   \n",
       "2          1  Booked, paid and received email confirmation f...   \n",
       "3          5  Best airline in the world, seats, food, servic...   \n",
       "4          2  Premium Economy Seating on Singapore Airlines ...   \n",
       "...      ...                                                ...   \n",
       "9995       5  First part done with Singapore Airlines - acce...   \n",
       "9996       5  And again a great Flight with Singapore Air. G...   \n",
       "9997       5  We flew business class from Frankfurt, via Sin...   \n",
       "9998       4  As always, the A380 aircraft was spotlessly pr...   \n",
       "9999       4  As always, Singapore Airlines has done it agai...   \n",
       "\n",
       "                                                  title  \n",
       "0                                                    Ok  \n",
       "1     The service in Suites Class makes one feel lik...  \n",
       "2                            Don’t give them your money  \n",
       "3                             Best Airline in the World  \n",
       "4     Premium Economy Seating on Singapore Airlines ...  \n",
       "...                                                 ...  \n",
       "9995  Flew to NZ 1st half Singapore Airlines, 2nd ha...  \n",
       "9996                                       Best Airline  \n",
       "9997               Superb service on Singapore Airlines  \n",
       "9998  A Comfortable Fiight Spoiled by lack of adequa...  \n",
       "9999                           Delivered as expected :)  \n",
       "\n",
       "[10000 rows x 3 columns]"
      ]
     },
     "execution_count": 63,
     "metadata": {},
     "output_type": "execute_result"
    }
   ],
   "source": [
    "df = df.drop(columns=['type'])\n",
    "df"
   ]
  },
  {
   "cell_type": "code",
   "execution_count": 64,
   "metadata": {},
   "outputs": [
    {
     "data": {
      "text/html": [
       "<div>\n",
       "<style scoped>\n",
       "    .dataframe tbody tr th:only-of-type {\n",
       "        vertical-align: middle;\n",
       "    }\n",
       "\n",
       "    .dataframe tbody tr th {\n",
       "        vertical-align: top;\n",
       "    }\n",
       "\n",
       "    .dataframe thead th {\n",
       "        text-align: right;\n",
       "    }\n",
       "</style>\n",
       "<table border=\"1\" class=\"dataframe\">\n",
       "  <thead>\n",
       "    <tr style=\"text-align: right;\">\n",
       "      <th></th>\n",
       "      <th>rating</th>\n",
       "      <th>text</th>\n",
       "      <th>title</th>\n",
       "    </tr>\n",
       "  </thead>\n",
       "  <tbody>\n",
       "    <tr>\n",
       "      <th>0</th>\n",
       "      <td>3</td>\n",
       "      <td>We used this airline to go from Singapore to L...</td>\n",
       "      <td>Ok</td>\n",
       "    </tr>\n",
       "    <tr>\n",
       "      <th>1</th>\n",
       "      <td>5</td>\n",
       "      <td>The service on Singapore Airlines Suites Class...</td>\n",
       "      <td>The service in Suites Class makes one feel lik...</td>\n",
       "    </tr>\n",
       "    <tr>\n",
       "      <th>2</th>\n",
       "      <td>1</td>\n",
       "      <td>Booked, paid and received email confirmation f...</td>\n",
       "      <td>Don’t give them your money</td>\n",
       "    </tr>\n",
       "    <tr>\n",
       "      <th>3</th>\n",
       "      <td>5</td>\n",
       "      <td>Best airline in the world, seats, food, servic...</td>\n",
       "      <td>Best Airline in the World</td>\n",
       "    </tr>\n",
       "    <tr>\n",
       "      <th>4</th>\n",
       "      <td>2</td>\n",
       "      <td>Premium Economy Seating on Singapore Airlines ...</td>\n",
       "      <td>Premium Economy Seating on Singapore Airlines ...</td>\n",
       "    </tr>\n",
       "    <tr>\n",
       "      <th>...</th>\n",
       "      <td>...</td>\n",
       "      <td>...</td>\n",
       "      <td>...</td>\n",
       "    </tr>\n",
       "    <tr>\n",
       "      <th>9995</th>\n",
       "      <td>5</td>\n",
       "      <td>First part done with Singapore Airlines - acce...</td>\n",
       "      <td>Flew to NZ 1st half Singapore Airlines, 2nd ha...</td>\n",
       "    </tr>\n",
       "    <tr>\n",
       "      <th>9996</th>\n",
       "      <td>5</td>\n",
       "      <td>And again a great Flight with Singapore Air. G...</td>\n",
       "      <td>Best Airline</td>\n",
       "    </tr>\n",
       "    <tr>\n",
       "      <th>9997</th>\n",
       "      <td>5</td>\n",
       "      <td>We flew business class from Frankfurt, via Sin...</td>\n",
       "      <td>Superb service on Singapore Airlines</td>\n",
       "    </tr>\n",
       "    <tr>\n",
       "      <th>9998</th>\n",
       "      <td>4</td>\n",
       "      <td>As always, the A380 aircraft was spotlessly pr...</td>\n",
       "      <td>A Comfortable Fiight Spoiled by lack of adequa...</td>\n",
       "    </tr>\n",
       "    <tr>\n",
       "      <th>9999</th>\n",
       "      <td>4</td>\n",
       "      <td>As always, Singapore Airlines has done it agai...</td>\n",
       "      <td>Delivered as expected :)</td>\n",
       "    </tr>\n",
       "  </tbody>\n",
       "</table>\n",
       "<p>9999 rows × 3 columns</p>\n",
       "</div>"
      ],
      "text/plain": [
       "      rating                                               text  \\\n",
       "0          3  We used this airline to go from Singapore to L...   \n",
       "1          5  The service on Singapore Airlines Suites Class...   \n",
       "2          1  Booked, paid and received email confirmation f...   \n",
       "3          5  Best airline in the world, seats, food, servic...   \n",
       "4          2  Premium Economy Seating on Singapore Airlines ...   \n",
       "...      ...                                                ...   \n",
       "9995       5  First part done with Singapore Airlines - acce...   \n",
       "9996       5  And again a great Flight with Singapore Air. G...   \n",
       "9997       5  We flew business class from Frankfurt, via Sin...   \n",
       "9998       4  As always, the A380 aircraft was spotlessly pr...   \n",
       "9999       4  As always, Singapore Airlines has done it agai...   \n",
       "\n",
       "                                                  title  \n",
       "0                                                    Ok  \n",
       "1     The service in Suites Class makes one feel lik...  \n",
       "2                            Don’t give them your money  \n",
       "3                             Best Airline in the World  \n",
       "4     Premium Economy Seating on Singapore Airlines ...  \n",
       "...                                                 ...  \n",
       "9995  Flew to NZ 1st half Singapore Airlines, 2nd ha...  \n",
       "9996                                       Best Airline  \n",
       "9997               Superb service on Singapore Airlines  \n",
       "9998  A Comfortable Fiight Spoiled by lack of adequa...  \n",
       "9999                           Delivered as expected :)  \n",
       "\n",
       "[9999 rows x 3 columns]"
      ]
     },
     "execution_count": 64,
     "metadata": {},
     "output_type": "execute_result"
    }
   ],
   "source": [
    "df = df.dropna()\n",
    "df"
   ]
  },
  {
   "cell_type": "code",
   "execution_count": 65,
   "metadata": {},
   "outputs": [
    {
     "name": "stderr",
     "output_type": "stream",
     "text": [
      "/var/folders/p1/8s9_fqq533b0tkl0412p4btrr53559/T/ipykernel_33462/3150219481.py:2: SettingWithCopyWarning: \n",
      "A value is trying to be set on a copy of a slice from a DataFrame.\n",
      "Try using .loc[row_indexer,col_indexer] = value instead\n",
      "\n",
      "See the caveats in the documentation: https://pandas.pydata.org/pandas-docs/stable/user_guide/indexing.html#returning-a-view-versus-a-copy\n",
      "  df['text'] = [re.sub(r'[^\\w\\s]','', i) for i in list(df['text']) ]\n",
      "/var/folders/p1/8s9_fqq533b0tkl0412p4btrr53559/T/ipykernel_33462/3150219481.py:4: SettingWithCopyWarning: \n",
      "A value is trying to be set on a copy of a slice from a DataFrame.\n",
      "Try using .loc[row_indexer,col_indexer] = value instead\n",
      "\n",
      "See the caveats in the documentation: https://pandas.pydata.org/pandas-docs/stable/user_guide/indexing.html#returning-a-view-versus-a-copy\n",
      "  df['text'] = [tittle[i]+\" \"+text for i,text in enumerate(list(df['text']))]\n"
     ]
    },
    {
     "data": {
      "text/html": [
       "<div>\n",
       "<style scoped>\n",
       "    .dataframe tbody tr th:only-of-type {\n",
       "        vertical-align: middle;\n",
       "    }\n",
       "\n",
       "    .dataframe tbody tr th {\n",
       "        vertical-align: top;\n",
       "    }\n",
       "\n",
       "    .dataframe thead th {\n",
       "        text-align: right;\n",
       "    }\n",
       "</style>\n",
       "<table border=\"1\" class=\"dataframe\">\n",
       "  <thead>\n",
       "    <tr style=\"text-align: right;\">\n",
       "      <th></th>\n",
       "      <th>rating</th>\n",
       "      <th>text</th>\n",
       "    </tr>\n",
       "  </thead>\n",
       "  <tbody>\n",
       "    <tr>\n",
       "      <th>0</th>\n",
       "      <td>3</td>\n",
       "      <td>Ok We used this airline to go from Singapore t...</td>\n",
       "    </tr>\n",
       "    <tr>\n",
       "      <th>1</th>\n",
       "      <td>5</td>\n",
       "      <td>The service in Suites Class makes one feel lik...</td>\n",
       "    </tr>\n",
       "    <tr>\n",
       "      <th>2</th>\n",
       "      <td>1</td>\n",
       "      <td>Dont give them your money Booked paid and rece...</td>\n",
       "    </tr>\n",
       "    <tr>\n",
       "      <th>3</th>\n",
       "      <td>5</td>\n",
       "      <td>Best Airline in the World Best airline in the ...</td>\n",
       "    </tr>\n",
       "    <tr>\n",
       "      <th>4</th>\n",
       "      <td>2</td>\n",
       "      <td>Premium Economy Seating on Singapore Airlines ...</td>\n",
       "    </tr>\n",
       "    <tr>\n",
       "      <th>...</th>\n",
       "      <td>...</td>\n",
       "      <td>...</td>\n",
       "    </tr>\n",
       "    <tr>\n",
       "      <th>9995</th>\n",
       "      <td>5</td>\n",
       "      <td>Flew to NZ 1st half Singapore Airlines 2nd hal...</td>\n",
       "    </tr>\n",
       "    <tr>\n",
       "      <th>9996</th>\n",
       "      <td>5</td>\n",
       "      <td>Best Airline And again a great Flight with Sin...</td>\n",
       "    </tr>\n",
       "    <tr>\n",
       "      <th>9997</th>\n",
       "      <td>5</td>\n",
       "      <td>Superb service on Singapore Airlines We flew b...</td>\n",
       "    </tr>\n",
       "    <tr>\n",
       "      <th>9998</th>\n",
       "      <td>4</td>\n",
       "      <td>A Comfortable Fiight Spoiled by lack of adequa...</td>\n",
       "    </tr>\n",
       "    <tr>\n",
       "      <th>9999</th>\n",
       "      <td>4</td>\n",
       "      <td>Delivered as expected  As always Singapore Air...</td>\n",
       "    </tr>\n",
       "  </tbody>\n",
       "</table>\n",
       "<p>9999 rows × 2 columns</p>\n",
       "</div>"
      ],
      "text/plain": [
       "      rating                                               text\n",
       "0          3  Ok We used this airline to go from Singapore t...\n",
       "1          5  The service in Suites Class makes one feel lik...\n",
       "2          1  Dont give them your money Booked paid and rece...\n",
       "3          5  Best Airline in the World Best airline in the ...\n",
       "4          2  Premium Economy Seating on Singapore Airlines ...\n",
       "...      ...                                                ...\n",
       "9995       5  Flew to NZ 1st half Singapore Airlines 2nd hal...\n",
       "9996       5  Best Airline And again a great Flight with Sin...\n",
       "9997       5  Superb service on Singapore Airlines We flew b...\n",
       "9998       4  A Comfortable Fiight Spoiled by lack of adequa...\n",
       "9999       4  Delivered as expected  As always Singapore Air...\n",
       "\n",
       "[9999 rows x 2 columns]"
      ]
     },
     "execution_count": 65,
     "metadata": {},
     "output_type": "execute_result"
    }
   ],
   "source": [
    "import re\n",
    "df['text'] = [re.sub(r'[^\\w\\s]','', i) for i in list(df['text']) ]\n",
    "tittle = [re.sub(r'[^\\w\\s]','', i) for i in list(df['title']) ]\n",
    "df['text'] = [tittle[i]+\" \"+text for i,text in enumerate(list(df['text']))]\n",
    "df = df.drop(columns='title')\n",
    "df"
   ]
  },
  {
   "cell_type": "code",
   "execution_count": 55,
   "metadata": {},
   "outputs": [
    {
     "name": "stdout",
     "output_type": "stream",
     "text": [
      "(7499, 24022) (2500, 24022)\n"
     ]
    }
   ],
   "source": [
    "from sklearn.feature_extraction.text import TfidfVectorizer\n",
    "from sklearn.model_selection import train_test_split\n",
    "train_df,test_df = train_test_split(df)\n",
    "\n",
    "vectorizer = TfidfVectorizer()\n",
    "vectorizer.fit(list(df['text']))\n",
    "test = vectorizer.transform(list(test_df['text'])).toarray()\n",
    "train = vectorizer.transform(list(train_df['text'])).toarray()\n",
    "print(train.shape, test.shape)"
   ]
  },
  {
   "cell_type": "code",
   "execution_count": 56,
   "metadata": {},
   "outputs": [],
   "source": [
    "from sklearn.linear_model import LogisticRegression\n",
    "clf = LogisticRegression(random_state=0).fit(train, train_df['rating'])"
   ]
  },
  {
   "cell_type": "code",
   "execution_count": 13,
   "metadata": {},
   "outputs": [],
   "source": [
    "pred = clf.predict(test)"
   ]
  },
  {
   "cell_type": "code",
   "execution_count": 57,
   "metadata": {},
   "outputs": [
    {
     "data": {
      "text/plain": [
       "rating\n",
       "5    1376\n",
       "4     483\n",
       "1     262\n",
       "3     237\n",
       "2     142\n",
       "Name: count, dtype: int64"
      ]
     },
     "execution_count": 57,
     "metadata": {},
     "output_type": "execute_result"
    }
   ],
   "source": [
    "test_df['rating'].value_counts()"
   ]
  },
  {
   "cell_type": "code",
   "execution_count": 58,
   "metadata": {},
   "outputs": [
    {
     "name": "stdout",
     "output_type": "stream",
     "text": [
      "0.12845716882526698 0.19916563110243207\n"
     ]
    },
    {
     "name": "stderr",
     "output_type": "stream",
     "text": [
      "/Users/21311064/Library/Python/3.11/lib/python/site-packages/sklearn/metrics/_classification.py:1509: UndefinedMetricWarning: Precision is ill-defined and being set to 0.0 in labels with no predicted samples. Use `zero_division` parameter to control this behavior.\n",
      "  _warn_prf(average, modifier, f\"{metric.capitalize()} is\", len(result))\n"
     ]
    }
   ],
   "source": [
    "from sklearn.metrics import precision_score,recall_score\n",
    "print(precision_score(list(test_df['rating']), pred, average='macro'),recall_score(list(test_df['rating']), pred, average='macro'))"
   ]
  },
  {
   "cell_type": "markdown",
   "metadata": {},
   "source": [
    "Классы несбалансированые, поэтому посмотрим на макро precision_score,recall_score, чтобы у малочисленных классов тоже была важность, как видим, результаты не очень"
   ]
  },
  {
   "cell_type": "code",
   "execution_count": 66,
   "metadata": {},
   "outputs": [
    {
     "name": "stderr",
     "output_type": "stream",
     "text": [
      "[nltk_data] Error loading stopwords: <urlopen error [SSL:\n",
      "[nltk_data]     CERTIFICATE_VERIFY_FAILED] certificate verify failed:\n",
      "[nltk_data]     unable to get local issuer certificate (_ssl.c:1006)>\n"
     ]
    }
   ],
   "source": [
    "#2\n",
    "import nltk\n",
    "nltk.download(\"stopwords\")\n",
    "\n",
    "from nltk.corpus import stopwords\n",
    "from pymystem3 import Mystem\n",
    "from string import punctuation\n",
    "\n",
    "mystem = Mystem() \n",
    "russian_stopwords = stopwords.words(\"english\")\n",
    "\n",
    "def preprocess_text(text):\n",
    "    tokens = mystem.lemmatize(text.lower())\n",
    "    tokens = [token for token in tokens if token not in russian_stopwords\\\n",
    "              and token != \" \" \\\n",
    "              and token.strip() not in punctuation]\n",
    "    \n",
    "    text = \" \".join(tokens)\n",
    "    \n",
    "    return text\n",
    "\n",
    "df['text'] = [preprocess_text(i) for i in list(df['text'])]"
   ]
  },
  {
   "cell_type": "code",
   "execution_count": 67,
   "metadata": {},
   "outputs": [
    {
     "name": "stdout",
     "output_type": "stream",
     "text": [
      "(7499, 23791) (2500, 23791)\n",
      "0.5218301939147467 0.4568002948086768\n"
     ]
    }
   ],
   "source": [
    "train_df,test_df = train_test_split(df)\n",
    "\n",
    "vectorizer = TfidfVectorizer()\n",
    "vectorizer.fit(list(df['text']))\n",
    "test = vectorizer.transform(list(test_df['text'])).toarray()\n",
    "train = vectorizer.transform(list(train_df['text'])).toarray()\n",
    "print(train.shape, test.shape)\n",
    "clf = LogisticRegression(random_state=0).fit(train, train_df['rating'])\n",
    "pred = clf.predict(test)\n",
    "print(precision_score(list(test_df['rating']), pred, average='macro'),recall_score(list(test_df['rating']), pred, average='macro'))\n"
   ]
  },
  {
   "cell_type": "code",
   "execution_count": 70,
   "metadata": {},
   "outputs": [
    {
     "name": "stdout",
     "output_type": "stream",
     "text": [
      "0.45787707333921357 0.4419351380734652\n"
     ]
    }
   ],
   "source": [
    "from sklearn import svm\n",
    "clf = svm.SVC()\n",
    "clf.fit(train, train_df['rating'])\n",
    "pred = clf.predict(test)\n",
    "print(precision_score(list(test_df['rating']), pred, average='macro'),recall_score(list(test_df['rating']), pred, average='macro'))"
   ]
  },
  {
   "cell_type": "code",
   "execution_count": 68,
   "metadata": {},
   "outputs": [
    {
     "name": "stdout",
     "output_type": "stream",
     "text": [
      "0.429069704819706 0.3877275333383657\n"
     ]
    }
   ],
   "source": [
    "from sklearn.neighbors import KNeighborsClassifier\n",
    "knn = KNeighborsClassifier()\n",
    "knn.fit(train, train_df['rating'])\n",
    "pred = knn.predict(test)\n",
    "print(precision_score(list(test_df['rating']), pred, average='macro'),recall_score(list(test_df['rating']), pred, average='macro'))"
   ]
  },
  {
   "cell_type": "code",
   "execution_count": 69,
   "metadata": {},
   "outputs": [
    {
     "name": "stdout",
     "output_type": "stream",
     "text": [
      "0.2860272384815995 0.22183098591549294\n"
     ]
    },
    {
     "name": "stderr",
     "output_type": "stream",
     "text": [
      "/Users/21311064/Library/Python/3.11/lib/python/site-packages/sklearn/metrics/_classification.py:1509: UndefinedMetricWarning: Precision is ill-defined and being set to 0.0 in labels with no predicted samples. Use `zero_division` parameter to control this behavior.\n",
      "  _warn_prf(average, modifier, f\"{metric.capitalize()} is\", len(result))\n"
     ]
    }
   ],
   "source": [
    "from sklearn.naive_bayes import MultinomialNB\n",
    "model = MultinomialNB()\n",
    "model.fit(train, train_df['rating'])\n",
    "pred = model.predict(test)\n",
    "print(precision_score(list(test_df['rating']), pred, average='macro'),recall_score(list(test_df['rating']), pred, average='macro'))"
   ]
  },
  {
   "cell_type": "markdown",
   "metadata": {},
   "source": [
    "Как видим, лучше всего логистическая регрессия"
   ]
  },
  {
   "cell_type": "code",
   "execution_count": 71,
   "metadata": {},
   "outputs": [],
   "source": [
    "clf = LogisticRegression(random_state=0).fit(train, train_df['rating'])\n",
    "proba = clf.predict_proba(test)\n"
   ]
  },
  {
   "cell_type": "code",
   "execution_count": 73,
   "metadata": {},
   "outputs": [
    {
     "data": {
      "text/plain": [
       "0.8775677617448195"
      ]
     },
     "execution_count": 73,
     "metadata": {},
     "output_type": "execute_result"
    }
   ],
   "source": [
    "from sklearn.metrics import roc_auc_score\n",
    "roc_auc_score(list(test_df['rating']), proba, multi_class='ovr')"
   ]
  },
  {
   "cell_type": "code",
   "execution_count": 74,
   "metadata": {},
   "outputs": [],
   "source": [
    "pos_text = vectorizer.transform([preprocess_text('Great airline campaign! I will fly with them again! successful flight')]).toarray()\n",
    "neg_text = vectorizer.transform([preprocess_text('Terrible service... disgusting food, rude staff and very little space on the plane')]).toarray()"
   ]
  },
  {
   "cell_type": "code",
   "execution_count": 75,
   "metadata": {},
   "outputs": [
    {
     "name": "stdout",
     "output_type": "stream",
     "text": [
      "[5] [1]\n"
     ]
    }
   ],
   "source": [
    "print(clf.predict(pos_text), clf.predict(neg_text))"
   ]
  },
  {
   "cell_type": "markdown",
   "metadata": {},
   "source": [
    "Работет!"
   ]
  },
  {
   "cell_type": "code",
   "execution_count": 81,
   "metadata": {},
   "outputs": [
    {
     "data": {
      "text/plain": [
       "23791"
      ]
     },
     "execution_count": 81,
     "metadata": {},
     "output_type": "execute_result"
    }
   ],
   "source": [
    "len(clf.coef_[0])"
   ]
  },
  {
   "cell_type": "code",
   "execution_count": 90,
   "metadata": {},
   "outputs": [],
   "source": [
    "#3\n",
    "weight_neg = pd.DataFrame({'words': vectorizer.get_feature_names_out(), 'weights': clf.coef_[0]}).sort_values(by='weights', ascending = False)\n",
    "weight_pos = pd.DataFrame({'words': vectorizer.get_feature_names_out(), 'weights': clf.coef_[4]}).sort_values(by='weights', ascending = False)\n"
   ]
  },
  {
   "cell_type": "code",
   "execution_count": 94,
   "metadata": {},
   "outputs": [
    {
     "data": {
      "text/plain": [
       "3786              best\n",
       "8471         excellent\n",
       "10224            great\n",
       "2605           amazing\n",
       "8858         fantastic\n",
       "5520       comfortable\n",
       "2593            always\n",
       "23392        wonderful\n",
       "21095            thank\n",
       "10747           highly\n",
       "3364           awesome\n",
       "10664          helpful\n",
       "17020        recommend\n",
       "15500          perfect\n",
       "23075             well\n",
       "8494       exceptional\n",
       "20568           superb\n",
       "5516           comfort\n",
       "5278             clean\n",
       "8191     entertainment\n",
       "Name: words, dtype: object"
      ]
     },
     "execution_count": 94,
     "metadata": {},
     "output_type": "execute_result"
    }
   ],
   "source": [
    "weight_pos['words'][:20]"
   ]
  },
  {
   "cell_type": "code",
   "execution_count": 95,
   "metadata": {},
   "outputs": [
    {
     "data": {
      "text/plain": [
       "23459        worst\n",
       "21051     terrible\n",
       "14291        never\n",
       "6488      customer\n",
       "17894         rude\n",
       "7479          dont\n",
       "13898        money\n",
       "21324       ticket\n",
       "4605     cancelled\n",
       "15952         poor\n",
       "4077       booking\n",
       "12967         lost\n",
       "10925     horrible\n",
       "23455        worse\n",
       "17136       refund\n",
       "13923       months\n",
       "7990         email\n",
       "5930       contact\n",
       "3445           bad\n",
       "13052      luggage\n",
       "Name: words, dtype: object"
      ]
     },
     "execution_count": 95,
     "metadata": {},
     "output_type": "execute_result"
    }
   ],
   "source": [
    "weight_neg['words'][:20]"
   ]
  },
  {
   "cell_type": "code",
   "execution_count": 104,
   "metadata": {},
   "outputs": [
    {
     "name": "stdout",
     "output_type": "stream",
     "text": [
      "[5]\n",
      "[5]\n",
      "[5]\n",
      "[5]\n",
      "[5]\n"
     ]
    }
   ],
   "source": [
    "def prepare(text):\n",
    "    return  vectorizer.transform([preprocess_text(text)]).toarray()\n",
    "neg = ['thanks for ruining my vacation, I didn’t like it', \n",
    "'the flight was absolutely not comfortable, I always flew perfectly, this was the first time I encountered something like this',\n",
    "'well, I am extremely upset, the flight was postponed',\n",
    "'Never fly with this airline, I hope my review is helpful',\n",
    "'I can’t recommend this airline to you because I didn’t like it'\n",
    "]\n",
    "for i in neg:\n",
    "    print(clf.predict(prepare(i)))"
   ]
  },
  {
   "cell_type": "code",
   "execution_count": 124,
   "metadata": {},
   "outputs": [
    {
     "name": "stdout",
     "output_type": "stream",
     "text": [
      "[1]\n",
      "[1]\n",
      "[1]\n",
      "[1]\n",
      "[1]\n"
     ]
    }
   ],
   "source": [
    "pos = ['no luggage was lost, we arrived on time, I will fly with this airline again',\n",
    "'I bought a ticket to Paris, but due to the weather the flight was canceled, they apologized to me and quickly returned the money, not bad service',\n",
    "'I don’t regret spending money at all, I never thought that a flight could be so good',\n",
    "'I bought a ticket for a month to Bali, the flight was goooood',\n",
    "'a very rude woman was sitting in front of me, but despite this the staff behaved politely, respect'\n",
    "]\n",
    "for i in pos:\n",
    "    print(clf.predict(prepare(i)))"
   ]
  },
  {
   "cell_type": "markdown",
   "metadata": {},
   "source": [
    "Как видим, для того, чтобы обнануть алгоритм достаточно использовать резко позитивные или резко негативные слова и стараться не использовать противоположные(также их можно заменять орфографическими ошибками или сленгом)"
   ]
  }
 ],
 "metadata": {
  "interpreter": {
   "hash": "aee8b7b246df8f9039afb4144a1f6fd8d2ca17a180786b69acc140d282b71a49"
  },
  "kernelspec": {
   "display_name": "Python 3.10.2 64-bit",
   "language": "python",
   "name": "python3"
  },
  "language_info": {
   "codemirror_mode": {
    "name": "ipython",
    "version": 3
   },
   "file_extension": ".py",
   "mimetype": "text/x-python",
   "name": "python",
   "nbconvert_exporter": "python",
   "pygments_lexer": "ipython3",
   "version": "3.11.6"
  },
  "orig_nbformat": 4
 },
 "nbformat": 4,
 "nbformat_minor": 2
}
