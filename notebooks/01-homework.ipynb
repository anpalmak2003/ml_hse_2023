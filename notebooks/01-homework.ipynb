{
 "cells": [
  {
   "cell_type": "code",
   "execution_count": 1,
   "metadata": {},
   "outputs": [],
   "source": [
    "#1\n",
    "def func(ar):\n",
    "    ans = {}\n",
    "    n = len(ar)\n",
    "    ans[\"mean\"] = sum(ar)/n\n",
    "    ar = sorted(ar)\n",
    "    if n%2==0:\n",
    "        ans[\"median\"] = (ar[n//2 - 1] + ar[n//2]) / 2\n",
    "    else:\n",
    "        ans[\"median\"] = ar[n//2]\n",
    "    counter = {}\n",
    "    for item in ar:\n",
    "        counter[item] = counter.get(item, 0) + 1\n",
    "    max_count = max(counter.values())\n",
    "    mode = [k for k, v in counter.items() if v == max_count]\n",
    "    if len(mode)==1:\n",
    "        ans[\"mode\"] = mode[0]\n",
    "    else:\n",
    "        ans[\"mode\"] = mode\n",
    "\n",
    "    return ans"
   ]
  },
  {
   "cell_type": "code",
   "execution_count": 7,
   "metadata": {},
   "outputs": [],
   "source": [
    "#2\n",
    "from typing import List, Dict\n",
    "def parse_csv(file_content: str) -> List[Dict]:\n",
    "    lines = file_content.splitlines()\n",
    "    headers = lines[0].split(',')\n",
    "    data = []\n",
    "    for line in lines[1:]:\n",
    "        values = line.split(',')\n",
    "        row = {}\n",
    "        for i in range(len(headers)):\n",
    "            row[headers[i]] = values[i]\n",
    "        data.append(row)\n",
    "    return data"
   ]
  },
  {
   "cell_type": "code",
   "execution_count": 12,
   "metadata": {},
   "outputs": [],
   "source": [
    "import os\n",
    "from pathlib import Path\n",
    "with open(os.path.join( str(Path(os.getcwd()).parents[0]) , 'data/dota_hero_stats.csv'), 'r') as file:\n",
    "    data = file.read()"
   ]
  },
  {
   "cell_type": "code",
   "execution_count": 13,
   "metadata": {},
   "outputs": [],
   "source": [
    "file = parse_csv(data)"
   ]
  },
  {
   "cell_type": "code",
   "execution_count": 14,
   "metadata": {},
   "outputs": [],
   "source": [
    "max_legs = 0\n",
    "name = ''\n",
    "for hero in file:\n",
    "    if int(hero['legs'])>max_legs:\n",
    "        max_legs = int(hero['legs'])\n",
    "        name = hero['localized_name']"
   ]
  },
  {
   "cell_type": "code",
   "execution_count": 15,
   "metadata": {},
   "outputs": [
    {
     "name": "stdout",
     "output_type": "stream",
     "text": [
      "больше всего ног у Broodmother\n"
     ]
    }
   ],
   "source": [
    "print(\"больше всего ног у\", name)"
   ]
  },
  {
   "cell_type": "code",
   "execution_count": null,
   "metadata": {},
   "outputs": [],
   "source": [
    "#3 id, localized_name, name - уникальные значения, поэтому не будем использовать их\n",
    "# primary_attr не информативен\n",
    "# будем использовать attack_type, legs и roles\n",
    "# f1(xi,xj) = 0 if xi[attack_type] == xj[attack_type] else 1\n",
    "# f2(xi,xj) = |xi[legs] - xj[legs]|/|max(xk[legs]) - min(xq[legs])| по всем k,q\n",
    "# f3(x1,xj) = количество ролей xi и xj, не пренадлежищих пересечению xi[roles] и xj[roles], деленное на мощность пересечения xi[roles] и xj[roles]\n",
    "# итоговая мера = f1+f2+f3 (самы дельние герои будут на расстоянии 3, ближние на 0)"
   ]
  },
  {
   "cell_type": "code",
   "execution_count": 16,
   "metadata": {},
   "outputs": [],
   "source": [
    "min_legs = 10000000\n",
    "for hero in file:\n",
    "    if int(hero['legs'])<min_legs:\n",
    "        min_legs = int(hero['legs'])"
   ]
  },
  {
   "cell_type": "code",
   "execution_count": 17,
   "metadata": {},
   "outputs": [
    {
     "data": {
      "text/plain": [
       "(0, 8)"
      ]
     },
     "execution_count": 17,
     "metadata": {},
     "output_type": "execute_result"
    }
   ],
   "source": [
    "min_legs, max_legs"
   ]
  },
  {
   "cell_type": "code",
   "execution_count": 18,
   "metadata": {},
   "outputs": [],
   "source": [
    "def f1(xi,xj):\n",
    "    return xi[\"attack_type\"] != xj[\"attack_type\"]\n",
    "\n",
    "def f2(xi,xj):\n",
    "    return abs(int(xi[\"legs\"]) - int(xj[\"legs\"]))/(max_legs-min_legs)\n",
    "\n",
    "def f3(xi,xj):\n",
    "    t = 0\n",
    "    union = (set(xi[\"roles\"]) or set(xj[\"roles\"]))\n",
    "    intersection = (set(xi[\"roles\"]) and set(xj[\"roles\"]))\n",
    "    for i in xi[\"roles\"]+xj[\"roles\"]:\n",
    "        t += i not in intersection\n",
    "    return t/len(union)\n",
    "def f(xi,xj):\n",
    "    return f1(xi,xj) + f2(xi,xj) + f3(xi,xj)"
   ]
  },
  {
   "cell_type": "code",
   "execution_count": 19,
   "metadata": {},
   "outputs": [],
   "source": [
    "min_d = 3\n",
    "ans = \"\"\n",
    "for i in range(len(file)):\n",
    "    for j in range(i+1,len(file)):\n",
    "        if f(file[i], file[j])<min_d:\n",
    "            min_d = f(file[i], file[j])\n",
    "            ans = i,j"
   ]
  },
  {
   "cell_type": "code",
   "execution_count": 20,
   "metadata": {},
   "outputs": [
    {
     "name": "stdout",
     "output_type": "stream",
     "text": [
      "минимальное расстояние 0.0 между \n",
      " {'': '3', 'attack_type': 'Melee', 'id': '4', 'legs': '2', 'localized_name': 'Bloodseeker', 'name': 'npc_dota_hero_bloodseeker', 'primary_attr': 'agi', 'roles': '\"[\\'Carry\\''} \n",
      " и \n",
      " {'': '0', 'attack_type': 'Melee', 'id': '1', 'legs': '2', 'localized_name': 'Anti-Mage', 'name': 'npc_dota_hero_antimage', 'primary_attr': 'agi', 'roles': '\"[\\'Carry\\''}\n"
     ]
    }
   ],
   "source": [
    "print(\"минимальное расстояние\", min_d, \"между\", \"\\n\", file[ans[1]],\"\\n и \\n\", file[ans[0]])"
   ]
  }
 ],
 "metadata": {
  "kernelspec": {
   "display_name": "Python 3",
   "language": "python",
   "name": "python3"
  },
  "language_info": {
   "codemirror_mode": {
    "name": "ipython",
    "version": 3
   },
   "file_extension": ".py",
   "mimetype": "text/x-python",
   "name": "python",
   "nbconvert_exporter": "python",
   "pygments_lexer": "ipython3",
   "version": "3.8.9"
  },
  "orig_nbformat": 4
 },
 "nbformat": 4,
 "nbformat_minor": 2
}
